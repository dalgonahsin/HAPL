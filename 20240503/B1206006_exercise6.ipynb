{
  "nbformat": 4,
  "nbformat_minor": 0,
  "metadata": {
    "colab": {
      "provenance": []
    },
    "kernelspec": {
      "name": "python3",
      "display_name": "Python 3"
    },
    "language_info": {
      "name": "python"
    }
  },
  "cells": [
    {
      "cell_type": "code",
      "execution_count": 3,
      "metadata": {
        "colab": {
          "base_uri": "https://localhost:8080/"
        },
        "id": "YfvCl3zZ6bSK",
        "outputId": "44367ad0-b7b4-404b-8049-5eb7b2141da3"
      },
      "outputs": [
        {
          "output_type": "stream",
          "name": "stdout",
          "text": [
            "聖誕樹層數:15\n",
            "               *\n",
            "              ***\n",
            "             *****\n",
            "            *******\n",
            "           *********\n",
            "          ***********\n",
            "         *************\n",
            "        ***************\n",
            "       *****************\n",
            "      *******************\n",
            "     *********************\n",
            "    ***********************\n",
            "   *************************\n",
            "  ***************************\n",
            " *****************************\n",
            "              ***\n",
            "              ***\n",
            "              ***\n",
            "              ***\n",
            "              ***\n"
          ]
        }
      ],
      "source": [
        "def tree(n):\n",
        "  t=n*2+1\n",
        "  for x in range(t):\n",
        "       if x%2==1:\n",
        "          Q=int((t-x)/2)\n",
        "          for y in range(Q):\n",
        "              print(\" \",end=\"\")\n",
        "          for k in range(x):\n",
        "              print(\"*\",end=\"\")\n",
        "          print(\"\")\n",
        "  for i in range(5):\n",
        "       print(' '*(n-1)+'*'*3)\n",
        "j=int(input('聖誕樹層數:'))\n",
        "tree(j)"
      ]
    },
    {
      "cell_type": "code",
      "source": [
        "try:\n",
        "   a=float(input('身高(cm)'))\n",
        "   b=float(input('體重(kg)'))\n",
        "   c=float(a/100)**2\n",
        "   d=float(b/c)\n",
        "\n",
        "   def calculate(b,c):\n",
        "    d=b/c\n",
        "    return d\n",
        "   print(\"BMI:\",d)\n",
        "\n",
        "   if d<18.5:\n",
        "     print('體位:過輕')\n",
        "   elif 18.5 <= d <24:\n",
        "     print('體位:適中')\n",
        "   elif 24<= d <27:\n",
        "     print('體位:過重')\n",
        "   else:\n",
        "     print('體位:肥胖')\n",
        "except:\n",
        "     pass\n",
        "     print(\"輸入內容錯誤\")"
      ],
      "metadata": {
        "colab": {
          "base_uri": "https://localhost:8080/"
        },
        "id": "wizTjlVoJXa0",
        "outputId": "021ab514-b241-4015-e415-6cb2e13e0a27"
      },
      "execution_count": 6,
      "outputs": [
        {
          "output_type": "stream",
          "name": "stdout",
          "text": [
            "身高(cm)159\n",
            "體重(kg)t\n",
            "輸入內容錯誤\n"
          ]
        }
      ]
    }
  ]
}