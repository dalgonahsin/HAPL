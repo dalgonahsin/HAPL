{
  "nbformat": 4,
  "nbformat_minor": 0,
  "metadata": {
    "colab": {
      "provenance": []
    },
    "kernelspec": {
      "name": "python3",
      "display_name": "Python 3"
    },
    "language_info": {
      "name": "python"
    }
  },
  "cells": [
    {
      "cell_type": "code",
      "execution_count": null,
      "metadata": {
        "colab": {
          "base_uri": "https://localhost:8080/"
        },
        "id": "RZFStMJ_4taa",
        "outputId": "93350f5a-9844-47f4-8952-7191e3e6cca7"
      },
      "outputs": [
        {
          "output_type": "stream",
          "name": "stdout",
          "text": [
            "I'm a student\n"
          ]
        }
      ],
      "source": [
        "a=('''I'm a student''')\n",
        "print(a)"
      ]
    },
    {
      "cell_type": "code",
      "source": [
        "a=int(input(\"輸入x1:\"))\n",
        "b=int(input(\"輸入y1:\"))\n",
        "c=int(input(\"輸入x2:\"))\n",
        "d=int(input(\"輸入y2:\"))\n",
        "\n",
        "k=((a-c)**2+(b-d)**2)**(1/2)\n",
        "print(k)"
      ],
      "metadata": {
        "id": "B4WiaOHD5jgB",
        "colab": {
          "base_uri": "https://localhost:8080/"
        },
        "outputId": "18b1dca5-3b0a-4e6e-ab1e-88b1208d6a64"
      },
      "execution_count": 21,
      "outputs": [
        {
          "output_type": "stream",
          "name": "stdout",
          "text": [
            "輸入x1:3\n",
            "輸入y1:0\n",
            "輸入x2:0\n",
            "輸入y2:4\n",
            "5.0\n"
          ]
        }
      ]
    },
    {
      "cell_type": "code",
      "source": [
        "a=int(input(\"輸入身高(單位:cm)\"))\n",
        "b=int(input(\"輸入體重(單位:kg)\"))\n",
        "\n",
        "a/=100\n",
        "BMI=b/(a*a)\n",
        "print(BMI)"
      ],
      "metadata": {
        "colab": {
          "base_uri": "https://localhost:8080/"
        },
        "id": "YoO4LwjEfXKI",
        "outputId": "d76adaa8-ea81-4edb-8a2b-5e0f37c19831"
      },
      "execution_count": 1,
      "outputs": [
        {
          "output_type": "stream",
          "name": "stdout",
          "text": [
            "輸入身高(單位:cm)160\n",
            "輸入體重(單位:kg)55\n",
            "21.484374999999996\n"
          ]
        }
      ]
    }
  ]
}