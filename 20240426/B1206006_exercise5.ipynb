{
  "nbformat": 4,
  "nbformat_minor": 0,
  "metadata": {
    "colab": {
      "provenance": []
    },
    "kernelspec": {
      "name": "python3",
      "display_name": "Python 3"
    },
    "language_info": {
      "name": "python"
    }
  },
  "cells": [
    {
      "cell_type": "code",
      "execution_count": null,
      "metadata": {
        "colab": {
          "base_uri": "https://localhost:8080/"
        },
        "id": "Y2PRQJHK4SI3",
        "outputId": "f5121826-7b23-4bc4-e181-9ba2be0e6818"
      },
      "outputs": [
        {
          "output_type": "stream",
          "name": "stdout",
          "text": [
            " 1 × 1 = 1   2 × 1 = 2   3 × 1 = 3   4 × 1 = 4   5 × 1 = 5   6 × 1 = 6   7 × 1 = 7   8 × 1 = 8   9 × 1 = 9  \n",
            " 1 × 2 = 2   2 × 2 = 4   3 × 2 = 6   4 × 2 = 8   5 × 2 = 10  6 × 2 = 12  7 × 2 = 14  8 × 2 = 16  9 × 2 = 18 \n",
            " 1 × 3 = 3   2 × 3 = 6   3 × 3 = 9   4 × 3 = 12  5 × 3 = 15  6 × 3 = 18  7 × 3 = 21  8 × 3 = 24  9 × 3 = 27 \n",
            " 1 × 4 = 4   2 × 4 = 8   3 × 4 = 12  4 × 4 = 16  5 × 4 = 20  6 × 4 = 24  7 × 4 = 28  8 × 4 = 32  9 × 4 = 36 \n",
            " 1 × 5 = 5   2 × 5 = 10  3 × 5 = 15  4 × 5 = 20  5 × 5 = 25  6 × 5 = 30  7 × 5 = 35  8 × 5 = 40  9 × 5 = 45 \n",
            " 1 × 6 = 6   2 × 6 = 12  3 × 6 = 18  4 × 6 = 24  5 × 6 = 30  6 × 6 = 36  7 × 6 = 42  8 × 6 = 48  9 × 6 = 54 \n",
            " 1 × 7 = 7   2 × 7 = 14  3 × 7 = 21  4 × 7 = 28  5 × 7 = 35  6 × 7 = 42  7 × 7 = 49  8 × 7 = 56  9 × 7 = 63 \n",
            " 1 × 8 = 8   2 × 8 = 16  3 × 8 = 24  4 × 8 = 32  5 × 8 = 40  6 × 8 = 48  7 × 8 = 56  8 × 8 = 64  9 × 8 = 72 \n",
            " 1 × 9 = 9   2 × 9 = 18  3 × 9 = 27  4 × 9 = 36  5 × 9 = 45  6 × 9 = 54  7 × 9 = 63  8 × 9 = 72  9 × 9 = 81 \n"
          ]
        }
      ],
      "source": [
        "a=1\n",
        "while a<=9:\n",
        "  b=1\n",
        "  while b<=9:\n",
        "    if (a*b)<=9:\n",
        "       print(f' {b} × {a} = {b*a}',end='  ')\n",
        "    else:\n",
        "       print(f' {b} × {a} = {b*a}',end=' ')\n",
        "    b+=1\n",
        "  print()\n",
        "  a+=1\n",
        "\n"
      ]
    },
    {
      "cell_type": "code",
      "source": [
        "import random\n",
        "answer = random.sample(range(1,10),4)\n",
        "print('答案：',answer)\n",
        "a=b=n=0\n",
        "num=0\n",
        "user = list(input('輸入四個數字(不會重複):'))\n",
        "if len(user) != 4:\n",
        "  (print('輸入數字過多，請輸入四個數字(不會重複)'))\n",
        "a = 0\n",
        "num = 0\n",
        "while a != 4:\n",
        "  num += 1\n",
        "  a=b=n=0\n",
        "  user = list(input('輸入四個數字(不會重複):'))\n",
        "\n",
        "  for i in user:\n",
        "     if int(user[n])==answer[n]:\n",
        "        a+=1\n",
        "     else:\n",
        "         if int(i) in answer:\n",
        "            b+=1\n",
        "     n+=1\n",
        "  output =','.join(user).replace(',','')\n",
        "  print(f'{output}:{a}A{b}B')\n",
        "print(f'答對了！總共猜了{num}次')\n"
      ],
      "metadata": {
        "colab": {
          "base_uri": "https://localhost:8080/"
        },
        "id": "8IMJc36v8wTB",
        "outputId": "3aaac7c0-ee1e-400b-88e0-74de7f34e950"
      },
      "execution_count": null,
      "outputs": [
        {
          "output_type": "stream",
          "name": "stdout",
          "text": [
            "答案： [5, 6, 3, 8]\n",
            "輸入四個數字(不會重複):78695\n",
            "輸入數字過多，請輸入四個數字(不會重複)\n",
            "輸入四個數字(不會重複):7869\n",
            "7869:0A2B\n",
            "輸入四個數字(不會重複):9643\n",
            "9643:1A1B\n",
            "輸入四個數字(不會重複):8653\n",
            "8653:1A3B\n",
            "輸入四個數字(不會重複):5638\n",
            "5638:4A0B\n",
            "答對了！總共猜了4次\n"
          ]
        }
      ]
    },
    {
      "cell_type": "code",
      "source": [],
      "metadata": {
        "id": "OTOwdopqOi4s"
      },
      "execution_count": null,
      "outputs": []
    }
  ]
}