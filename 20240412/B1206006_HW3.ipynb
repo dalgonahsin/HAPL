{
  "nbformat": 4,
  "nbformat_minor": 0,
  "metadata": {
    "colab": {
      "provenance": []
    },
    "kernelspec": {
      "name": "python3",
      "display_name": "Python 3"
    },
    "language_info": {
      "name": "python"
    }
  },
  "cells": [
    {
      "cell_type": "code",
      "execution_count": 3,
      "metadata": {
        "colab": {
          "base_uri": "https://localhost:8080/"
        },
        "id": "pjgNkDpjwCxx",
        "outputId": "5ad9623e-f2f4-48d1-b7a3-0dadc215055d"
      },
      "outputs": [
        {
          "output_type": "stream",
          "name": "stdout",
          "text": [
            "請輸入西元年份:1976\n",
            "閏年\n"
          ]
        }
      ],
      "source": [
        "a=int(input(\"請輸入西元年份:\"))\n",
        "if a%4!=0:\n",
        "   print(\"平年\")\n",
        "else:\n",
        "    if a<=1582:\n",
        "       if a%4==0:\n",
        "          print(\"閏年\")\n",
        "    if a>1582:\n",
        "       if a%4==0:\n",
        "          if a%100!=0 or a%400==0:\n",
        "             print(\"閏年\")\n",
        "          else:\n",
        "              print(\"平年\")"
      ]
    }
  ]
}