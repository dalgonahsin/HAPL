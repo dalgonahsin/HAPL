{
  "nbformat": 4,
  "nbformat_minor": 0,
  "metadata": {
    "colab": {
      "provenance": []
    },
    "kernelspec": {
      "name": "python3",
      "display_name": "Python 3"
    },
    "language_info": {
      "name": "python"
    }
  },
  "cells": [
    {
      "cell_type": "code",
      "execution_count": 21,
      "metadata": {
        "colab": {
          "base_uri": "https://localhost:8080/"
        },
        "id": "ThlXOaLfzF1x",
        "outputId": "ca06fece-0f16-46be-9e29-9ef3c38c9e81"
      },
      "outputs": [
        {
          "output_type": "stream",
          "name": "stdout",
          "text": [
            "身高(以公分為單位)160\n",
            "體重(以公斤為單位)53\n",
            "BMI : 20.703124999999996\n",
            "體位:適中\n"
          ]
        }
      ],
      "source": [
        "a=int(input(\"身高(以公分為單位)\"))\n",
        "b=int(input(\"體重(以公斤為單位)\"))\n",
        "a/=100\n",
        "a**=2\n",
        "BMI = b / a\n",
        "print('BMI :', BMI)\n",
        "if BMI < 18.5:\n",
        "   print('體位:過輕')\n",
        "elif 18.5 <= BMI < 24:\n",
        "   print('體位:適中')\n",
        "elif 24 <= BMI < 27:\n",
        "     print('體位:過重')\n",
        "else:\n",
        "    print('體位:肥胖')"
      ]
    },
    {
      "cell_type": "code",
      "source": [
        "a=int(input(\"請輸入第一個數字:\"))\n",
        "b=input(\"請輸入運算符號:\")\n",
        "c=int(input(\"請輸入第二個數字:\"))\n",
        "if b == \"+\":\n",
        "   d = a + c\n",
        "   print(float (d))\n",
        "elif b == \"-\":\n",
        "     d = a - c\n",
        "     print(float (d))\n",
        "elif b==\"*\":\n",
        "     d = a * c\n",
        "     print(float (d))\n",
        "elif b == \"/\":\n",
        "     d = a / c\n",
        "     print(float (d))"
      ],
      "metadata": {
        "colab": {
          "base_uri": "https://localhost:8080/"
        },
        "id": "FO2CVZK83HN2",
        "outputId": "b521d5cc-9c39-4cf0-fe47-9442de6f951d"
      },
      "execution_count": 28,
      "outputs": [
        {
          "output_type": "stream",
          "name": "stdout",
          "text": [
            "請輸入第一個數字:7\n",
            "請輸入運算符號:+\n",
            "請輸入第二個數字:8\n",
            "15.0\n"
          ]
        }
      ]
    }
  ]
}